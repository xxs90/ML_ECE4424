{
 "cells": [
  {
   "cell_type": "markdown",
   "id": "outside-honey",
   "metadata": {},
   "source": [
    "# HW 4: Unsupervised Learning, K-Means Clustering\n",
    "### CS 4824 / ECE 4484, Spring '21\n",
    "\n",
    "Code inspired by submissions to the [Credit Card Dataset for Clustering](https://www.kaggle.com/arjunbhasin2013/ccdata) Kaggle competition.\n",
    "\n",
    "---\n",
    "\n",
    "In this assignment, you're tasked with...\n",
    "1. Implementing the K-Means clustering algorithm in `custom_kmeans.py`.\n",
    "2. Choosing the best value of $K$ for this dataset\n",
    "3. Interpreting the demographhics within each of your $K$ clusters"
   ]
  },
  {
   "cell_type": "code",
   "execution_count": null,
   "id": "weird-registration",
   "metadata": {},
   "outputs": [],
   "source": [
    "###### standard imports ######\n",
    "import pandas as pd\n",
    "import seaborn as sns\n",
    "import matplotlib.pyplot as plt\n",
    "plt.style.use('ggplot')\n",
    "\n",
    "###### special from sklearn ######\n",
    "from sklearn.cluster import KMeans\n",
    "from sklearn.decomposition import PCA"
   ]
  },
  {
   "cell_type": "code",
   "execution_count": null,
   "id": "diverse-idaho",
   "metadata": {},
   "outputs": [],
   "source": [
    "###### Import our data and check out its dimensions ######\n",
    "data = pd.read_csv(\"creditcards.csv\")\n",
    "print(f\"{data.shape[0]} rows, {data.shape[1]} columns\")"
   ]
  },
  {
   "cell_type": "code",
   "execution_count": null,
   "id": "varying-dollar",
   "metadata": {},
   "outputs": [],
   "source": [
    "###### Check out the dataset ######\n",
    "data.head(10)"
   ]
  },
  {
   "cell_type": "markdown",
   "id": "facial-hungarian",
   "metadata": {},
   "source": [
    "## 1. Test and time your solution!\n",
    "\n",
    "Here is where you run your solution to see how well it performs. Toggle the comments below to see the results from scikit-learn's KMeans implementation, they should help give you a reference for how your algorithm should perform."
   ]
  },
  {
   "cell_type": "code",
   "execution_count": null,
   "id": "alpine-spine",
   "metadata": {},
   "outputs": [],
   "source": [
    "import time\n",
    "###### Import and run your solution! ######\n",
    "from custom_kmeans import CustomKMeans\n",
    "\n",
    "K = 5\n",
    "tic = time.perf_counter()\n",
    "\n",
    "# ===== Toggle the comment below to see sklearn's implementation =====\n",
    "custom_labels = CustomKMeans(K).fit(data, True) # True is added to turn on by-timestep graphing\n",
    "# custom_labels = KMeans(K).fit(data)\n",
    "# ====================================================================\n",
    "\n",
    "toc = time.perf_counter()\n",
    "\n",
    "print(f\"Clustered {data.shape[0]} datapoints into {K} clusters in {toc - tic:0.4f} seconds\")"
   ]
  },
  {
   "cell_type": "markdown",
   "id": "working-pittsburgh",
   "metadata": {},
   "source": [
    "## 2. Choose the best K!\n",
    "\n",
    "Use the elbow method to choose the $K$ which best balances the fewest number of clusters and the minimum sum of distances. Again, toggle sk-learn's implementation for your reference."
   ]
  },
  {
   "cell_type": "code",
   "execution_count": null,
   "id": "racial-report",
   "metadata": {},
   "outputs": [],
   "source": [
    "###### For choosing best K ######\n",
    "sum_of_distances = []\n",
    "max_k = 20\n",
    "for k in range(2, max_k):\n",
    "# ===== Toggle the comment below to see sklearn's implementation =====\n",
    "    kmean = CustomKMeans(k).fit(data)\n",
    "    #kmean = KMeans(k).fit(data) \n",
    "# ====================================================================\n",
    "    sum_of_distances.append(kmean.inertia_)\n",
    "\n",
    "###### Plot the cost vs number of clusters ######\n",
    "fig = plt.figure(figsize=(9,6))\n",
    "plt.plot(range(2, max_k), sum_of_distances, '--x')\n",
    "plt.title(\"Cost vs # Clusters\")\n",
    "plt.xlabel(\"# Clusters\")\n",
    "plt.ylabel('Cost')\n",
    "plt.show()"
   ]
  },
  {
   "cell_type": "markdown",
   "id": "tropical-austria",
   "metadata": {},
   "source": [
    "## 3. Interpret your groups!\n",
    "\n",
    "Now that you've chosen the best $K$, cluster along that value. Use the seaborn FaceGrids to help interpreting the meanings of each cluster."
   ]
  },
  {
   "cell_type": "code",
   "execution_count": null,
   "id": "experienced-duration",
   "metadata": {},
   "outputs": [],
   "source": [
    "best_k = 1\n",
    "labels = CustomKMeans(best_k).fit(data).labels_\n",
    "\n",
    "# ================ Uncomment for accuracy reference ================ \n",
    "# labels = KMeans(best_k).fit(data).labels_\n",
    "# ==================================================================\n",
    "\n",
    "pd.DataFrame(labels).to_csv('labels.csv', index=False) # Saves to local file for plot_3d.py"
   ]
  },
  {
   "cell_type": "code",
   "execution_count": null,
   "id": "indonesian-discharge",
   "metadata": {},
   "outputs": [],
   "source": [
    "###### Generate by-cluster feature breakdowns to aid in interpretation ######\n",
    "labeled_data = data.copy()\n",
    "labeled_data['cluster'] = labels\n",
    "\n",
    "for c in labeled_data:\n",
    "    if c == 'cluster': continue\n",
    "    grid=sns.FacetGrid(labeled_data, col='cluster')\n",
    "    grid.map(plt.hist, c)"
   ]
  },
  {
   "cell_type": "markdown",
   "id": "neither-department",
   "metadata": {},
   "source": [
    "## Replace cluster labels\n",
    "\n",
    "Now that you've seen the feature breakdowns, describe and explain each cluster below. 2-3 sentences should be sufficient.\n",
    "\n",
    "1. **Foo**: ...\n",
    "2. **Bar**: ...\n",
    "3. ...\n",
    "\n",
    "Now replace the dummy strings in the below dict \"`interpretations`\" with each of your cluster names."
   ]
  },
  {
   "cell_type": "code",
   "execution_count": null,
   "id": "prerequisite-restriction",
   "metadata": {},
   "outputs": [],
   "source": [
    "######  extract top two principal components ######\n",
    "data_pca = pd.DataFrame(PCA(2).fit_transform(data))\n",
    "data_pca.columns = ['PC1', 'PC2']\n",
    "data_pca['cluster'] = labels\n",
    "\n",
    "###### Interpret the meanings of your K clusters ######\n",
    "interpretations = {\n",
    "    0: \"foo\",\n",
    "    1: \"bar\",\n",
    "    2: \"fizz\",\n",
    "    3: 'buzz',\n",
    "#   ...\n",
    "}\n",
    "for key, value in interpretations.items():\n",
    "    data_pca['cluster'].replace(key, value, inplace=True)"
   ]
  },
  {
   "cell_type": "markdown",
   "id": "alternative-smooth",
   "metadata": {},
   "source": [
    "### Inspect your clusters!\n",
    "\n",
    "See the divisions between your clusters, as projected along the first two principal components, below. Some questions you should be asking yourself: \n",
    "- do the intersections and overlaps between the groups make sense? \n",
    "- are there distinct boundaries between clusters?\n",
    "- do the outliers' labels make sense?"
   ]
  },
  {
   "cell_type": "code",
   "execution_count": null,
   "id": "realistic-indonesian",
   "metadata": {},
   "outputs": [],
   "source": [
    "###### graph the data with seaborn ######\n",
    "sns.set_style(\"whitegrid\")\n",
    "fig = plt.figure(figsize=(12,12))\n",
    "\n",
    "sns.scatterplot(data=data_pca, x='PC1', y='PC2', hue='cluster', palette='deep')\n",
    "\n",
    "###### label and display! ######\n",
    "plt.title(\"Clusters on first two principal components\")\n",
    "plt.xlabel('PC1')\n",
    "plt.ylabel('PC2')\n",
    "plt.show()"
   ]
  }
 ],
 "metadata": {
  "kernelspec": {
   "display_name": "Python [conda env:CCM] *",
   "language": "python",
   "name": "conda-env-CCM-py"
  },
  "language_info": {
   "codemirror_mode": {
    "name": "ipython",
    "version": 3
   },
   "file_extension": ".py",
   "mimetype": "text/x-python",
   "name": "python",
   "nbconvert_exporter": "python",
   "pygments_lexer": "ipython3",
   "version": "3.8.8"
  }
 },
 "nbformat": 4,
 "nbformat_minor": 5
}
