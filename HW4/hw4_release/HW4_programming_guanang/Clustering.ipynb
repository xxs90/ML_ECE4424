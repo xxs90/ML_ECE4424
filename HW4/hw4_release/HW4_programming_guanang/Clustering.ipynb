{
 "cells": [
  {
   "cell_type": "markdown",
   "id": "outside-honey",
   "metadata": {},
   "source": [
    "# HW 4: Unsupervised Learning, K-Means Clustering\n",
    "### CS 4824 / ECE 4484, Spring '21\n",
    "#####  Name: Guanang Su\n",
    "#####  VT email id: guanang\n",
    "Code inspired by submissions to the [Credit Card Dataset for Clustering](https://www.kaggle.com/arjunbhasin2013/ccdata) Kaggle competition.\n",
    "\n",
    "---\n",
    "\n",
    "In this assignment, you're tasked with...\n",
    "1. Implementing the K-Means clustering algorithm in `custom_kmeans.py`.\n",
    "2. Choosing the best value of $K$ for this dataset\n",
    "3. Interpreting the demographhics within each of your $K$ clusters"
   ]
  },
  {
   "cell_type": "code",
   "execution_count": 429,
   "id": "weird-registration",
   "metadata": {},
   "outputs": [
    {
     "name": "stdout",
     "output_type": "stream",
     "text": [
      "The autoreload extension is already loaded. To reload it, use:\n",
      "  %reload_ext autoreload\n"
     ]
    }
   ],
   "source": [
    "%matplotlib inline\n",
    "%load_ext autoreload\n",
    "%autoreload 2\n",
    "\n",
    "###### standard imports ######\n",
    "import pandas as pd\n",
    "import seaborn as sns\n",
    "import matplotlib.pyplot as plt\n",
    "plt.style.use('ggplot')\n",
    "\n",
    "###### special from sklearn ######\n",
    "from sklearn.cluster import KMeans\n",
    "from sklearn.decomposition import PCA"
   ]
  },
  {
   "cell_type": "code",
   "execution_count": 430,
   "id": "diverse-idaho",
   "metadata": {},
   "outputs": [
    {
     "name": "stdout",
     "output_type": "stream",
     "text": [
      "8950 rows, 17 columns\n"
     ]
    }
   ],
   "source": [
    "###### Import our data and check out its dimensions ######\n",
    "data = pd.read_csv(\"creditcards.csv\")\n",
    "print(f\"{data.shape[0]} rows, {data.shape[1]} columns\")"
   ]
  },
  {
   "cell_type": "code",
   "execution_count": 431,
   "id": "varying-dollar",
   "metadata": {},
   "outputs": [
    {
     "data": {
      "text/plain": "       BALANCE  BALANCE_FREQUENCY  PURCHASES  ONEOFF_PURCHASES  \\\n0    40.900749           0.818182      95.40              0.00   \n1  3202.467416           0.909091       0.00              0.00   \n2  2495.148862           1.000000     773.17            773.17   \n3  1666.670542           0.636364    1499.00           1499.00   \n4   817.714335           1.000000      16.00             16.00   \n5  1809.828751           1.000000    1333.28              0.00   \n6   627.260806           1.000000    7091.01           6402.63   \n7  1823.652743           1.000000     436.20              0.00   \n8  1014.926473           1.000000     861.49            661.49   \n9   152.225975           0.545455    1281.60           1281.60   \n\n   INSTALLMENTS_PURCHASES  CASH_ADVANCE  PURCHASES_FREQUENCY  \\\n0                   95.40      0.000000             0.166667   \n1                    0.00   6442.945483             0.000000   \n2                    0.00      0.000000             1.000000   \n3                    0.00    205.788017             0.083333   \n4                    0.00      0.000000             0.083333   \n5                 1333.28      0.000000             0.666667   \n6                  688.38      0.000000             1.000000   \n7                  436.20      0.000000             1.000000   \n8                  200.00      0.000000             0.333333   \n9                    0.00      0.000000             0.166667   \n\n   ONEOFF_PURCHASES_FREQUENCY  PURCHASES_INSTALLMENTS_FREQUENCY  \\\n0                    0.000000                          0.083333   \n1                    0.000000                          0.000000   \n2                    1.000000                          0.000000   \n3                    0.083333                          0.000000   \n4                    0.083333                          0.000000   \n5                    0.000000                          0.583333   \n6                    1.000000                          1.000000   \n7                    0.000000                          1.000000   \n8                    0.083333                          0.250000   \n9                    0.166667                          0.000000   \n\n   CASH_ADVANCE_FREQUENCY  CASH_ADVANCE_TRX  PURCHASES_TRX  CREDIT_LIMIT  \\\n0                0.000000                 0              2        1000.0   \n1                0.250000                 4              0        7000.0   \n2                0.000000                 0             12        7500.0   \n3                0.083333                 1              1        7500.0   \n4                0.000000                 0              1        1200.0   \n5                0.000000                 0              8        1800.0   \n6                0.000000                 0             64       13500.0   \n7                0.000000                 0             12        2300.0   \n8                0.000000                 0              5        7000.0   \n9                0.000000                 0              3       11000.0   \n\n      PAYMENTS  MINIMUM_PAYMENTS  PRC_FULL_PAYMENT  TENURE  \n0   201.802084        139.509787          0.000000      12  \n1  4103.032597       1072.340217          0.222222      12  \n2   622.066742        627.284787          0.000000      12  \n3     0.000000        627.284787          0.000000      12  \n4   678.334763        244.791237          0.000000      12  \n5  1400.057770       2407.246035          0.000000      12  \n6  6354.314328        198.065894          1.000000      12  \n7   679.065082        532.033990          0.000000      12  \n8   688.278568        311.963409          0.000000      12  \n9  1164.770591        100.302262          0.000000      12  ",
      "text/html": "<div>\n<style scoped>\n    .dataframe tbody tr th:only-of-type {\n        vertical-align: middle;\n    }\n\n    .dataframe tbody tr th {\n        vertical-align: top;\n    }\n\n    .dataframe thead th {\n        text-align: right;\n    }\n</style>\n<table border=\"1\" class=\"dataframe\">\n  <thead>\n    <tr style=\"text-align: right;\">\n      <th></th>\n      <th>BALANCE</th>\n      <th>BALANCE_FREQUENCY</th>\n      <th>PURCHASES</th>\n      <th>ONEOFF_PURCHASES</th>\n      <th>INSTALLMENTS_PURCHASES</th>\n      <th>CASH_ADVANCE</th>\n      <th>PURCHASES_FREQUENCY</th>\n      <th>ONEOFF_PURCHASES_FREQUENCY</th>\n      <th>PURCHASES_INSTALLMENTS_FREQUENCY</th>\n      <th>CASH_ADVANCE_FREQUENCY</th>\n      <th>CASH_ADVANCE_TRX</th>\n      <th>PURCHASES_TRX</th>\n      <th>CREDIT_LIMIT</th>\n      <th>PAYMENTS</th>\n      <th>MINIMUM_PAYMENTS</th>\n      <th>PRC_FULL_PAYMENT</th>\n      <th>TENURE</th>\n    </tr>\n  </thead>\n  <tbody>\n    <tr>\n      <th>0</th>\n      <td>40.900749</td>\n      <td>0.818182</td>\n      <td>95.40</td>\n      <td>0.00</td>\n      <td>95.40</td>\n      <td>0.000000</td>\n      <td>0.166667</td>\n      <td>0.000000</td>\n      <td>0.083333</td>\n      <td>0.000000</td>\n      <td>0</td>\n      <td>2</td>\n      <td>1000.0</td>\n      <td>201.802084</td>\n      <td>139.509787</td>\n      <td>0.000000</td>\n      <td>12</td>\n    </tr>\n    <tr>\n      <th>1</th>\n      <td>3202.467416</td>\n      <td>0.909091</td>\n      <td>0.00</td>\n      <td>0.00</td>\n      <td>0.00</td>\n      <td>6442.945483</td>\n      <td>0.000000</td>\n      <td>0.000000</td>\n      <td>0.000000</td>\n      <td>0.250000</td>\n      <td>4</td>\n      <td>0</td>\n      <td>7000.0</td>\n      <td>4103.032597</td>\n      <td>1072.340217</td>\n      <td>0.222222</td>\n      <td>12</td>\n    </tr>\n    <tr>\n      <th>2</th>\n      <td>2495.148862</td>\n      <td>1.000000</td>\n      <td>773.17</td>\n      <td>773.17</td>\n      <td>0.00</td>\n      <td>0.000000</td>\n      <td>1.000000</td>\n      <td>1.000000</td>\n      <td>0.000000</td>\n      <td>0.000000</td>\n      <td>0</td>\n      <td>12</td>\n      <td>7500.0</td>\n      <td>622.066742</td>\n      <td>627.284787</td>\n      <td>0.000000</td>\n      <td>12</td>\n    </tr>\n    <tr>\n      <th>3</th>\n      <td>1666.670542</td>\n      <td>0.636364</td>\n      <td>1499.00</td>\n      <td>1499.00</td>\n      <td>0.00</td>\n      <td>205.788017</td>\n      <td>0.083333</td>\n      <td>0.083333</td>\n      <td>0.000000</td>\n      <td>0.083333</td>\n      <td>1</td>\n      <td>1</td>\n      <td>7500.0</td>\n      <td>0.000000</td>\n      <td>627.284787</td>\n      <td>0.000000</td>\n      <td>12</td>\n    </tr>\n    <tr>\n      <th>4</th>\n      <td>817.714335</td>\n      <td>1.000000</td>\n      <td>16.00</td>\n      <td>16.00</td>\n      <td>0.00</td>\n      <td>0.000000</td>\n      <td>0.083333</td>\n      <td>0.083333</td>\n      <td>0.000000</td>\n      <td>0.000000</td>\n      <td>0</td>\n      <td>1</td>\n      <td>1200.0</td>\n      <td>678.334763</td>\n      <td>244.791237</td>\n      <td>0.000000</td>\n      <td>12</td>\n    </tr>\n    <tr>\n      <th>5</th>\n      <td>1809.828751</td>\n      <td>1.000000</td>\n      <td>1333.28</td>\n      <td>0.00</td>\n      <td>1333.28</td>\n      <td>0.000000</td>\n      <td>0.666667</td>\n      <td>0.000000</td>\n      <td>0.583333</td>\n      <td>0.000000</td>\n      <td>0</td>\n      <td>8</td>\n      <td>1800.0</td>\n      <td>1400.057770</td>\n      <td>2407.246035</td>\n      <td>0.000000</td>\n      <td>12</td>\n    </tr>\n    <tr>\n      <th>6</th>\n      <td>627.260806</td>\n      <td>1.000000</td>\n      <td>7091.01</td>\n      <td>6402.63</td>\n      <td>688.38</td>\n      <td>0.000000</td>\n      <td>1.000000</td>\n      <td>1.000000</td>\n      <td>1.000000</td>\n      <td>0.000000</td>\n      <td>0</td>\n      <td>64</td>\n      <td>13500.0</td>\n      <td>6354.314328</td>\n      <td>198.065894</td>\n      <td>1.000000</td>\n      <td>12</td>\n    </tr>\n    <tr>\n      <th>7</th>\n      <td>1823.652743</td>\n      <td>1.000000</td>\n      <td>436.20</td>\n      <td>0.00</td>\n      <td>436.20</td>\n      <td>0.000000</td>\n      <td>1.000000</td>\n      <td>0.000000</td>\n      <td>1.000000</td>\n      <td>0.000000</td>\n      <td>0</td>\n      <td>12</td>\n      <td>2300.0</td>\n      <td>679.065082</td>\n      <td>532.033990</td>\n      <td>0.000000</td>\n      <td>12</td>\n    </tr>\n    <tr>\n      <th>8</th>\n      <td>1014.926473</td>\n      <td>1.000000</td>\n      <td>861.49</td>\n      <td>661.49</td>\n      <td>200.00</td>\n      <td>0.000000</td>\n      <td>0.333333</td>\n      <td>0.083333</td>\n      <td>0.250000</td>\n      <td>0.000000</td>\n      <td>0</td>\n      <td>5</td>\n      <td>7000.0</td>\n      <td>688.278568</td>\n      <td>311.963409</td>\n      <td>0.000000</td>\n      <td>12</td>\n    </tr>\n    <tr>\n      <th>9</th>\n      <td>152.225975</td>\n      <td>0.545455</td>\n      <td>1281.60</td>\n      <td>1281.60</td>\n      <td>0.00</td>\n      <td>0.000000</td>\n      <td>0.166667</td>\n      <td>0.166667</td>\n      <td>0.000000</td>\n      <td>0.000000</td>\n      <td>0</td>\n      <td>3</td>\n      <td>11000.0</td>\n      <td>1164.770591</td>\n      <td>100.302262</td>\n      <td>0.000000</td>\n      <td>12</td>\n    </tr>\n  </tbody>\n</table>\n</div>"
     },
     "execution_count": 431,
     "metadata": {},
     "output_type": "execute_result"
    }
   ],
   "source": [
    "###### Check out the dataset ######\n",
    "data.head(10)"
   ]
  },
  {
   "cell_type": "markdown",
   "id": "facial-hungarian",
   "metadata": {},
   "source": [
    "## 1. Test and time your solution!\n",
    "\n",
    "Here is where you run your solution to see how well it performs. Toggle the comments below to see the results from scikit-learn's KMeans implementation, they should help give you a reference for how your algorithm should perform."
   ]
  },
  {
   "cell_type": "code",
   "execution_count": 432,
   "id": "alpine-spine",
   "metadata": {},
   "outputs": [
    {
     "name": "stdout",
     "output_type": "stream",
     "text": [
      "\n",
      "8950\n"
     ]
    },
    {
     "ename": "NameError",
     "evalue": "name 'closest_centroid' is not defined",
     "output_type": "error",
     "traceback": [
      "\u001B[1;31m---------------------------------------------------------------------------\u001B[0m",
      "\u001B[1;31mNameError\u001B[0m                                 Traceback (most recent call last)",
      "\u001B[1;32m<ipython-input-432-de53f46154ed>\u001B[0m in \u001B[0;36m<module>\u001B[1;34m\u001B[0m\n\u001B[0;32m      7\u001B[0m \u001B[0mprint\u001B[0m\u001B[1;33m(\u001B[0m\u001B[1;33m)\u001B[0m\u001B[1;33m\u001B[0m\u001B[1;33m\u001B[0m\u001B[0m\n\u001B[0;32m      8\u001B[0m \u001B[1;31m# ===== Toggle the comment below to see sklearn's implementation =====\u001B[0m\u001B[1;33m\u001B[0m\u001B[1;33m\u001B[0m\u001B[1;33m\u001B[0m\u001B[0m\n\u001B[1;32m----> 9\u001B[1;33m \u001B[0mcustom_labels\u001B[0m \u001B[1;33m=\u001B[0m \u001B[0mCustomKMeans\u001B[0m\u001B[1;33m(\u001B[0m\u001B[0mK\u001B[0m\u001B[1;33m)\u001B[0m\u001B[1;33m.\u001B[0m\u001B[0mfit\u001B[0m\u001B[1;33m(\u001B[0m\u001B[0mdata\u001B[0m\u001B[1;33m,\u001B[0m \u001B[1;32mTrue\u001B[0m\u001B[1;33m)\u001B[0m \u001B[1;31m# True is added to turn on by-timestep graphing\u001B[0m\u001B[1;33m\u001B[0m\u001B[1;33m\u001B[0m\u001B[0m\n\u001B[0m\u001B[0;32m     10\u001B[0m \u001B[1;31m# custom_labels = KMeans(K).fit(data)\u001B[0m\u001B[1;33m\u001B[0m\u001B[1;33m\u001B[0m\u001B[1;33m\u001B[0m\u001B[0m\n\u001B[0;32m     11\u001B[0m \u001B[1;31m# ====================================================================\u001B[0m\u001B[1;33m\u001B[0m\u001B[1;33m\u001B[0m\u001B[1;33m\u001B[0m\u001B[0m\n",
      "\u001B[1;32mF:\\ML_ECE4424\\HW4\\hw4_release\\hw4_programming\\custom_kmeans.py\u001B[0m in \u001B[0;36mfit\u001B[1;34m(self, data, plot_steps)\u001B[0m\n\u001B[0;32m     54\u001B[0m         \u001B[1;31m#         print(\"data\")\u001B[0m\u001B[1;33m\u001B[0m\u001B[1;33m\u001B[0m\u001B[1;33m\u001B[0m\u001B[0m\n\u001B[0;32m     55\u001B[0m         \u001B[1;31m#         print(self.data.values[0, :], self.data.values[1, :])\u001B[0m\u001B[1;33m\u001B[0m\u001B[1;33m\u001B[0m\u001B[1;33m\u001B[0m\u001B[0m\n\u001B[1;32m---> 56\u001B[1;33m         \u001B[0mself\u001B[0m\u001B[1;33m.\u001B[0m\u001B[0mcentroids\u001B[0m \u001B[1;33m=\u001B[0m \u001B[0mclosest_centroid\u001B[0m\u001B[1;33m(\u001B[0m\u001B[0mself\u001B[0m\u001B[1;33m.\u001B[0m\u001B[0mcentriods\u001B[0m\u001B[1;33m,\u001B[0m \u001B[0mdata\u001B[0m\u001B[1;33m)\u001B[0m\u001B[1;33m\u001B[0m\u001B[1;33m\u001B[0m\u001B[0m\n\u001B[0m\u001B[0;32m     57\u001B[0m \u001B[1;33m\u001B[0m\u001B[0m\n\u001B[0;32m     58\u001B[0m         \u001B[1;31m# show data & centroids at each iteration when testing performance\u001B[0m\u001B[1;33m\u001B[0m\u001B[1;33m\u001B[0m\u001B[1;33m\u001B[0m\u001B[0m\n",
      "\u001B[1;31mNameError\u001B[0m: name 'closest_centroid' is not defined"
     ]
    }
   ],
   "source": [
    "import time\n",
    "###### Import and run your solution! ######\n",
    "from custom_kmeans import CustomKMeans\n",
    "\n",
    "K = 5\n",
    "tic = time.perf_counter()\n",
    "print()\n",
    "# ===== Toggle the comment below to see sklearn's implementation =====\n",
    "custom_labels = CustomKMeans(K).fit(data, True) # True is added to turn on by-timestep graphing\n",
    "# custom_labels = KMeans(K).fit(data)\n",
    "# ====================================================================\n",
    "\n",
    "toc = time.perf_counter()\n",
    "\n",
    "print(f\"Clustered {data.shape[0]} datapoints into {K} clusters in {toc - tic:0.4f} seconds\")"
   ]
  },
  {
   "cell_type": "markdown",
   "id": "working-pittsburgh",
   "metadata": {},
   "source": [
    "## 2. Choose the best K!\n",
    "\n",
    "Use the elbow method to choose the $K$ which best balances the fewest number of clusters and the minimum sum of distances. Again, toggle sk-learn's implementation for your reference."
   ]
  },
  {
   "cell_type": "code",
   "execution_count": null,
   "id": "racial-report",
   "metadata": {},
   "outputs": [],
   "source": [
    "###### For choosing best K ######\n",
    "sum_of_distances = []\n",
    "max_k = 20\n",
    "for k in range(2, max_k):\n",
    "# ===== Toggle the comment below to see sklearn's implementation =====\n",
    "    kmean = CustomKMeans(k).fit(data)\n",
    "    #kmean = KMeans(k).fit(data) \n",
    "# ====================================================================\n",
    "    sum_of_distances.append(kmean.inertia_)\n",
    "\n",
    "###### Plot the cost vs number of clusters ######\n",
    "fig = plt.figure(figsize=(9,6))\n",
    "plt.plot(range(2, max_k), sum_of_distances, '--x')\n",
    "plt.title(\"Cost vs # Clusters\")\n",
    "plt.xlabel(\"# Clusters\")\n",
    "plt.ylabel('Cost')\n",
    "plt.show()"
   ]
  },
  {
   "cell_type": "markdown",
   "id": "tropical-austria",
   "metadata": {},
   "source": [
    "## 3. Interpret your groups!\n",
    "\n",
    "Now that you've chosen the best $K$, cluster along that value. Use the seaborn FaceGrids to help interpreting the meanings of each cluster."
   ]
  },
  {
   "cell_type": "code",
   "execution_count": null,
   "id": "experienced-duration",
   "metadata": {},
   "outputs": [],
   "source": [
    "best_k = 7\n",
    "labels = CustomKMeans(best_k).fit(data).labels_\n",
    "\n",
    "# ================ Uncomment for accuracy reference ================ \n",
    "# labels = KMeans(best_k).fit(data).labels_\n",
    "# ==================================================================\n",
    "\n",
    "pd.DataFrame(labels).to_csv('labels.csv', index=False) # Saves to local file for plot_3d.py"
   ]
  },
  {
   "cell_type": "code",
   "execution_count": null,
   "id": "indonesian-discharge",
   "metadata": {},
   "outputs": [],
   "source": [
    "###### Generate by-cluster feature breakdowns to aid in interpretation ######\n",
    "labeled_data = data.copy()\n",
    "labeled_data['cluster'] = labels\n",
    "\n",
    "for c in labeled_data:\n",
    "    if c == 'cluster': continue\n",
    "    grid=sns.FacetGrid(labeled_data, col='cluster')\n",
    "    grid.map(plt.hist, c)"
   ]
  },
  {
   "cell_type": "markdown",
   "id": "neither-department",
   "metadata": {},
   "source": [
    "## Replace cluster labels\n",
    "\n",
    "Now that you've seen the feature breakdowns, describe and explain each cluster below. 2-3 sentences should be sufficient.\n",
    "\n",
    "1. **Foo**: ...\n",
    "2. **Bar**: ...\n",
    "3. ...\n",
    "\n",
    "Now replace the dummy strings in the below dict \"`interpretations`\" with each of your cluster names."
   ]
  },
  {
   "cell_type": "code",
   "execution_count": null,
   "id": "prerequisite-restriction",
   "metadata": {},
   "outputs": [],
   "source": [
    "######  extract top two principal components ######\n",
    "data_pca = pd.DataFrame(PCA(2).fit_transform(data))\n",
    "data_pca.columns = ['PC1', 'PC2']\n",
    "data_pca['cluster'] = labels\n",
    "\n",
    "###### Interpret the meanings of your K clusters ######\n",
    "interpretations = {\n",
    "    0: \"A\",\n",
    "    1: \"B\",\n",
    "    2: \"C\",\n",
    "    3: \"D\",\n",
    "    4: \"E\",\n",
    "    5: \"F\",\n",
    "    6: \"G\",\n",
    "#   ...\n",
    "}\n",
    "for key, value in interpretations.items():\n",
    "    data_pca['cluster'].replace(key, value, inplace=True)"
   ]
  },
  {
   "cell_type": "markdown",
   "id": "alternative-smooth",
   "metadata": {},
   "source": [
    "### Inspect your clusters!\n",
    "\n",
    "See the divisions between your clusters, as projected along the first two principal components, below. Some questions you should be asking yourself: \n",
    "- do the intersections and overlaps between the groups make sense? \n",
    "- are there distinct boundaries between clusters?\n",
    "- do the outliers' labels make sense?"
   ]
  },
  {
   "cell_type": "code",
   "execution_count": null,
   "id": "realistic-indonesian",
   "metadata": {},
   "outputs": [],
   "source": [
    "###### graph the data with seaborn ######\n",
    "sns.set_style(\"whitegrid\")\n",
    "fig = plt.figure(figsize=(12,12))\n",
    "\n",
    "sns.scatterplot(data=data_pca, x='PC1', y='PC2', hue='cluster', palette='deep')\n",
    "\n",
    "###### label and display! ######\n",
    "plt.title(\"Clusters on first two principal components\")\n",
    "plt.xlabel('PC1')\n",
    "plt.ylabel('PC2')\n",
    "plt.show()"
   ]
  }
 ],
 "metadata": {
  "kernelspec": {
   "name": "python3",
   "language": "python",
   "display_name": "Python 3"
  },
  "language_info": {
   "codemirror_mode": {
    "name": "ipython",
    "version": 3
   },
   "file_extension": ".py",
   "mimetype": "text/x-python",
   "name": "python",
   "nbconvert_exporter": "python",
   "pygments_lexer": "ipython3",
   "version": "3.8.8"
  }
 },
 "nbformat": 4,
 "nbformat_minor": 5
}