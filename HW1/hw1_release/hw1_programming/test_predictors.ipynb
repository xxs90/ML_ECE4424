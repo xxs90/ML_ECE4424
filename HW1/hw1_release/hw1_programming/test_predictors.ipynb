{
 "cells": [
  {
   "cell_type": "code",
   "execution_count": 1,
   "metadata": {},
   "outputs": [],
   "source": [
    "%load_ext autoreload\n",
    "%autoreload 2"
   ]
  },
  {
   "cell_type": "code",
   "execution_count": 6,
   "metadata": {},
   "outputs": [],
   "source": [
    "import numpy as np\n",
    "from decision_tree import calculate_information_gain, decision_tree_train, decision_tree_predict\n",
    "from naive_bayes import naive_bayes_train, naive_bayes_predict\n",
    "from load_all_data import load_all_data"
   ]
  },
  {
   "cell_type": "code",
   "execution_count": 5,
   "metadata": {},
   "outputs": [
    {
     "name": "stdout",
     "output_type": "stream",
     "text": [
      "Found pickle file. Loading 20news data from file.\n",
      "Doing so should be faster than loading from raw text, but if the file is corrupted, delete it and this script will automatically load from the raw text next time it is run.\n",
      "Finished loading in 0.01 seconds.\n"
     ]
    }
   ],
   "source": [
    "num_words, num_training, num_testing, train_data, test_data, train_labels, test_labels = load_all_data()"
   ]
  },
  {
   "cell_type": "code",
   "execution_count": 4,
   "metadata": {},
   "outputs": [],
   "source": [
    "d = 5000 # maximum number of features"
   ]
  },
  {
   "cell_type": "code",
   "execution_count": null,
   "metadata": {},
   "outputs": [],
   "source": [
    "# Filter features by information gain\n",
    "\n",
    "gain = calculate_information_gain(train_data, train_labels)\n",
    "\n",
    "print(gain)\n",
    "\n",
    "# sort features by calculated information gain\n",
    "ranks = gain.argsort()[::-1]\n",
    "\n",
    "train_data = train_data[ranks[:d], :]\n",
    "test_data = test_data[ranks[:d], :]\n",
    "\n",
    "# convert training data to dense ndarray\n",
    "train_data = train_data.toarray()\n",
    "test_data = test_data.toarray()"
   ]
  },
  {
   "cell_type": "code",
   "execution_count": null,
   "metadata": {},
   "outputs": [],
   "source": [
    "# Try naive Bayes \n",
    "\n",
    "nb_params = {}\n",
    "\n",
    "nb_model = naive_bayes_train(train_data, train_labels, nb_params)"
   ]
  },
  {
   "cell_type": "code",
   "execution_count": 7,
   "metadata": {},
   "outputs": [
    {
     "ename": "NameError",
     "evalue": "name 'nb_model' is not defined",
     "output_type": "error",
     "traceback": [
      "\u001B[1;31m---------------------------------------------------------------------------\u001B[0m",
      "\u001B[1;31mNameError\u001B[0m                                 Traceback (most recent call last)",
      "\u001B[1;32m<ipython-input-7-fbc9bdcfe401>\u001B[0m in \u001B[0;36m<module>\u001B[1;34m\u001B[0m\n\u001B[0;32m      1\u001B[0m \u001B[1;31m# Compute training accuracy\u001B[0m\u001B[1;33m\u001B[0m\u001B[1;33m\u001B[0m\u001B[1;33m\u001B[0m\u001B[0m\n\u001B[0;32m      2\u001B[0m \u001B[1;33m\u001B[0m\u001B[0m\n\u001B[1;32m----> 3\u001B[1;33m \u001B[0mnb_train_predictions\u001B[0m \u001B[1;33m=\u001B[0m \u001B[0mnaive_bayes_predict\u001B[0m\u001B[1;33m(\u001B[0m\u001B[0mtrain_data\u001B[0m\u001B[1;33m,\u001B[0m \u001B[0mnb_model\u001B[0m\u001B[1;33m)\u001B[0m\u001B[1;33m\u001B[0m\u001B[1;33m\u001B[0m\u001B[0m\n\u001B[0m\u001B[0;32m      4\u001B[0m \u001B[1;33m\u001B[0m\u001B[0m\n\u001B[0;32m      5\u001B[0m \u001B[0mnb_train_accuracy\u001B[0m \u001B[1;33m=\u001B[0m \u001B[0mnp\u001B[0m\u001B[1;33m.\u001B[0m\u001B[0mmean\u001B[0m\u001B[1;33m(\u001B[0m\u001B[0mnb_train_predictions\u001B[0m \u001B[1;33m==\u001B[0m \u001B[0mtrain_labels\u001B[0m\u001B[1;33m)\u001B[0m\u001B[1;33m\u001B[0m\u001B[1;33m\u001B[0m\u001B[0m\n",
      "\u001B[1;31mNameError\u001B[0m: name 'nb_model' is not defined"
     ]
    }
   ],
   "source": [
    "# Compute training accuracy\n",
    "\n",
    "nb_train_predictions = naive_bayes_predict(train_data, nb_model)\n",
    "\n",
    "nb_train_accuracy = np.mean(nb_train_predictions == train_labels)\n",
    "\n",
    "print(\"Naive Bayes training accuracy: %f\" % nb_train_accuracy)"
   ]
  },
  {
   "cell_type": "code",
   "execution_count": null,
   "metadata": {},
   "outputs": [],
   "source": [
    "# Compute testing accuracy\n",
    "\n",
    "nb_test_predictions = naive_bayes_predict(test_data, nb_model)\n",
    "\n",
    "nb_test_accuracy = np.mean(nb_test_predictions == test_labels)\n",
    "\n",
    "print(\"Naive Bayes testing accuracy: %f\" % nb_test_accuracy)"
   ]
  },
  {
   "cell_type": "code",
   "execution_count": null,
   "metadata": {},
   "outputs": [],
   "source": [
    "# Try decision tree with hard-coded maximum depth\n",
    "\n",
    "dt_params = { 'max_depth': 16 }\n",
    "\n",
    "dt_model = decision_tree_train(train_data, train_labels, dt_params)"
   ]
  },
  {
   "cell_type": "code",
   "execution_count": null,
   "metadata": {},
   "outputs": [],
   "source": [
    "# Compute training accuracy\n",
    "\n",
    "dt_train_predictions = decision_tree_predict(train_data, dt_model)\n",
    "                                \n",
    "dt_train_accuracy = np.mean(dt_train_predictions == train_labels)\n",
    "\n",
    "print(\"Decision tree training accuracy: %f\" % dt_train_accuracy)"
   ]
  },
  {
   "cell_type": "code",
   "execution_count": null,
   "metadata": {},
   "outputs": [],
   "source": [
    "# Compute testing accuracy\n",
    "\n",
    "dt_test_predictions = decision_tree_predict(test_data, dt_model)\n",
    "                                \n",
    "dt_test_accuracy = np.mean(dt_test_predictions == test_labels)\n",
    "\n",
    "print(\"Decision tree testing accuracy: %f\" % dt_test_accuracy)"
   ]
  },
  {
   "cell_type": "code",
   "execution_count": null,
   "metadata": {},
   "outputs": [],
   "source": []
  }
 ],
 "metadata": {
  "anaconda-cloud": {},
  "kernelspec": {
   "display_name": "Python 3",
   "language": "python",
   "name": "python3"
  },
  "language_info": {
   "codemirror_mode": {
    "name": "ipython",
    "version": 3
   },
   "file_extension": ".py",
   "mimetype": "text/x-python",
   "name": "python",
   "nbconvert_exporter": "python",
   "pygments_lexer": "ipython3",
   "version": "3.7.4"
  }
 },
 "nbformat": 4,
 "nbformat_minor": 1
}